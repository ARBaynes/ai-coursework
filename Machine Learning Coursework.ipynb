{
 "cells": [
  {
   "cell_type": "markdown",
   "metadata": {},
   "source": [
    "# Import statements"
   ]
  },
  {
   "cell_type": "code",
   "execution_count": null,
   "metadata": {
    "collapsed": true
   },
   "outputs": [],
   "source": [
    "import numpy as np\n",
    "\n",
    "import pandas as pd\n",
    "\n",
    "import matplotlib.pyplot as plt\n",
    "from matplotlib.ticker import MaxNLocator\n",
    "\n",
    "from sklearn import linear_model\n",
    "from sklearn.model_selection import train_test_split\n",
    "from sklearn.manifold import TSNE\n",
    "from sklearn.cluster import KMeans\n",
    "from sklearn.ensemble import RandomForestClassifier\n",
    "\n",
    "import seaborn as sns"
   ]
  },
  {
   "cell_type": "markdown",
   "metadata": {},
   "source": [
    "# Defining functions"
   ]
  },
  {
   "cell_type": "code",
   "execution_count": null,
   "metadata": {},
   "outputs": [],
   "source": [
    "def percentage(decimal):\n",
    "    return decimal * 100\n",
    "\n",
    "\n",
    "def get_grade(score):\n",
    "    # https://en.wikipedia.org/wiki/Academic_grading_in_Portugal\n",
    "    if 0 <= score < 3:\n",
    "        return 0\n",
    "        # Poor result\n",
    "    elif 3 <= score < 9:\n",
    "        return 1\n",
    "        # Weak result\n",
    "    elif 9 <= score < 13:\n",
    "        return 2\n",
    "        # Sufficient result\n",
    "    elif 13 <= score < 15:\n",
    "        return 3\n",
    "        # Good result\n",
    "    elif 15 <= score < 17:\n",
    "        return 4\n",
    "        # Very good result\n",
    "    else:\n",
    "        return 5\n",
    "        # Excellent result\n",
    "\n",
    "\n",
    "def get_feature_columns(data):\n",
    "    cols = data.columns.tolist()\n",
    "    cols.remove('grade')\n",
    "    return cols\n",
    "\n",
    "\n",
    "def get_x(data, columns):\n",
    "    return data[columns].values\n",
    "\n",
    "\n",
    "def get_y(data):\n",
    "    return data['grade'].values\n",
    "\n",
    "\n",
    "def get_tsne_data(data, _x):\n",
    "    tsne = TSNE(n_components=2, verbose=1, perplexity=40, n_iter=300)\n",
    "    tsne_results = tsne.fit_transform(_x)\n",
    "    data_tsne = data.copy(deep=True)\n",
    "    data_tsne['x-tsne'] = tsne_results[:, 0]\n",
    "    data_tsne['y-tsne'] = tsne_results[:, 1]\n",
    "    return data_tsne\n",
    "\n",
    "\n",
    "def get_clusters(_x):\n",
    "    km = KMeans(n_clusters=5)\n",
    "    km.fit(_x)\n",
    "    return km.predict(_x)"
   ]
  },
  {
   "cell_type": "markdown",
   "metadata": {},
   "source": [
    "# Importing and describing data"
   ]
  },
  {
   "cell_type": "code",
   "execution_count": null,
   "metadata": {},
   "outputs": [],
   "source": [
    "student_data = pd.read_csv(open('data/student/student-mat.csv', 'r'), sep=';')"
   ]
  },
  {
   "cell_type": "markdown",
   "metadata": {},
   "source": [
    "This data is a record of "
   ]
  },
  {
   "cell_type": "markdown",
   "metadata": {},
   "source": [
    "# Data pre-processing"
   ]
  },
  {
   "cell_type": "markdown",
   "metadata": {},
   "source": [
    "# Clustering"
   ]
  },
  {
   "cell_type": "markdown",
   "metadata": {},
   "source": [
    "# Scatter plotting"
   ]
  },
  {
   "cell_type": "markdown",
   "metadata": {},
   "source": [
    "# Parameter tuning"
   ]
  },
  {
   "cell_type": "markdown",
   "metadata": {},
   "source": [
    "# Cross validation"
   ]
  },
  {
   "cell_type": "code",
   "execution_count": null,
   "metadata": {},
   "outputs": [],
   "source": []
  }
 ],
 "metadata": {
  "kernelspec": {
   "display_name": "Python 2",
   "language": "python",
   "name": "python2"
  },
  "language_info": {
   "codemirror_mode": {
    "name": "ipython",
    "version": 2
   },
   "file_extension": ".py",
   "mimetype": "text/x-python",
   "name": "python",
   "nbconvert_exporter": "python",
   "pygments_lexer": "ipython2",
   "version": "2.7.6"
  }
 },
 "nbformat": 4,
 "nbformat_minor": 0
}
