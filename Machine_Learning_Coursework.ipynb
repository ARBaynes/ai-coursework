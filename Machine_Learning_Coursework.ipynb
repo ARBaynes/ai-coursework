{
  "nbformat": 4,
  "nbformat_minor": 0,
  "metadata": {
    "colab": {
      "name": "Machine Learning Coursework.ipynb",
      "version": "0.3.2",
      "provenance": [],
      "collapsed_sections": [],
      "include_colab_link": true
    },
    "kernelspec": {
      "display_name": "Python 2",
      "language": "python",
      "name": "python2"
    }
  },
  "cells": [
    {
      "cell_type": "markdown",
      "metadata": {
        "id": "view-in-github",
        "colab_type": "text"
      },
      "source": [
        "[View in Colaboratory](https://colab.research.google.com/github/ARBaynes/ai-coursework/blob/master/Machine_Learning_Coursework.ipynb)"
      ]
    },
    {
      "metadata": {
        "id": "V0geeynlaTAs",
        "colab_type": "text"
      },
      "cell_type": "markdown",
      "source": [
        "\n",
        "# Import statements"
      ]
    },
    {
      "metadata": {
        "id": "_ZpXIkuwaTAv",
        "colab_type": "code",
        "colab": {}
      },
      "cell_type": "code",
      "source": [
        "import numpy as np\n",
        "\n",
        "import pandas as pd\n",
        "\n",
        "import matplotlib.pyplot as plt\n",
        "from matplotlib.ticker import MaxNLocator\n",
        "\n",
        "from sklearn.model_selection import train_test_split\n",
        "from sklearn.manifold import TSNE\n",
        "from sklearn.cluster import KMeans\n",
        "\n",
        "import seaborn as sns\n",
        "\n",
        "import urllib2"
      ],
      "execution_count": 0,
      "outputs": []
    },
    {
      "metadata": {
        "id": "_UJXKBeeeZzO",
        "colab_type": "text"
      },
      "cell_type": "markdown",
      "source": [
        "The models I shall be using for this project include:\n",
        "*    A LogisticRegression model\n",
        "*    A RandomForestClassifier (effectively a series of decision trees).\n",
        "\n",
        "I also considered using a neural network, but ultimately as I have comparably small numbers of data with a large amount of numerical variation, using either Logistic Regression (referred to henceforth simply as `regression`) or a Random Tree (referred to as `tree`) would be a better decision."
      ]
    },
    {
      "metadata": {
        "id": "T7lEu3p5eN0M",
        "colab_type": "code",
        "colab": {}
      },
      "cell_type": "code",
      "source": [
        "from sklearn.linear_model import LogisticRegression\n",
        "from sklearn.ensemble import RandomForestClassifier"
      ],
      "execution_count": 0,
      "outputs": []
    },
    {
      "metadata": {
        "id": "r7Dus4qFaTA0",
        "colab_type": "text"
      },
      "cell_type": "markdown",
      "source": [
        "# Defining functions"
      ]
    },
    {
      "metadata": {
        "id": "cVeQE0Q7PEw6",
        "colab_type": "text"
      },
      "cell_type": "markdown",
      "source": [
        "Described below are the general-use functions to be declared at the beginning of the machine learning process (before being used later on)."
      ]
    },
    {
      "metadata": {
        "id": "a2CcC0NsaTA2",
        "colab_type": "code",
        "colab": {}
      },
      "cell_type": "code",
      "source": [
        "def percentage(decimal):\n",
        "  return decimal * 100\n",
        "\n",
        "\n",
        "def get_grade(score):\n",
        "    # https://en.wikipedia.org/wiki/Academic_grading_in_Portugal\n",
        "    if 0 <= score < 3:\n",
        "        return 0\n",
        "        # Poor result\n",
        "    elif 3 <= score < 9:\n",
        "        return 1\n",
        "        # Weak result\n",
        "    elif 9 <= score < 13:\n",
        "        return 2\n",
        "        # Sufficient result\n",
        "    elif 13 <= score < 15:\n",
        "        return 3\n",
        "        # Good result\n",
        "    elif 15 <= score < 17:\n",
        "        return 4\n",
        "        # Very good result\n",
        "    else:\n",
        "        return 5\n",
        "        # Excellent result\n",
        "\n",
        "\n",
        "def get_feature_columns(data):\n",
        "    cols = data.columns.tolist()\n",
        "    cols.remove('grade')\n",
        "    return cols\n",
        "\n",
        "\n",
        "def get_x(data, columns):\n",
        "    return data[columns].values\n",
        "\n",
        "\n",
        "def get_y(data):\n",
        "    return data['grade'].values\n",
        "\n",
        "\n",
        "def get_tsne_data(data, _x):\n",
        "    tsne = TSNE(n_components=2, verbose=1, perplexity=40, n_iter=300)\n",
        "    tsne_results = tsne.fit_transform(_x)\n",
        "    data_tsne = data.copy(deep=True)\n",
        "    data_tsne['x-tsne'] = tsne_results[:, 0]\n",
        "    data_tsne['y-tsne'] = tsne_results[:, 1]\n",
        "    return data_tsne\n",
        "\n",
        "\n",
        "def get_clusters(_x):\n",
        "    km = KMeans(n_clusters=5)\n",
        "    km.fit(_x)\n",
        "    return km.predict(_x)"
      ],
      "execution_count": 0,
      "outputs": []
    },
    {
      "metadata": {
        "id": "7vYVcUsRaTA4",
        "colab_type": "text"
      },
      "cell_type": "markdown",
      "source": [
        "# Importing and describing data"
      ]
    },
    {
      "metadata": {
        "id": "LglCSWCCPUp7",
        "colab_type": "text"
      },
      "cell_type": "markdown",
      "source": [
        "The data is recieved from a [personal Github repository](https://github.com/ARBaynes/ai-coursework), as the UCI Dataset shown [here](https://archive.ics.uci.edu/ml/datasets/student+performance) is wrapped inside of a [.zip folder](https://archive.ics.uci.edu/ml/machine-learning-databases/00320/) (and thus inaccessible via request to the database).\n",
        "\n",
        "I used only the maths class data (as opposed to using both the maths and portugese class data) as an accurate model of student grades would apply only to the subject the model is provided with."
      ]
    },
    {
      "metadata": {
        "id": "uyhe-TTQaTA6",
        "colab_type": "code",
        "colab": {}
      },
      "cell_type": "code",
      "source": [
        "rq = urllib2.Request('https://raw.githubusercontent.com/ARBaynes/ai-coursework/master/data/student/student-mat.csv')\n",
        "student_data = pd.read_csv(urllib2.urlopen(rq), sep=';', header=0)"
      ],
      "execution_count": 0,
      "outputs": []
    },
    {
      "metadata": {
        "id": "GGN9QaEFqmI8",
        "colab_type": "code",
        "colab": {
          "base_uri": "https://localhost:8080/",
          "height": 233
        },
        "outputId": "bfe545be-7cde-4497-9ebb-b0874803063d"
      },
      "cell_type": "code",
      "source": [
        "student_data.head()"
      ],
      "execution_count": 270,
      "outputs": [
        {
          "output_type": "execute_result",
          "data": {
            "text/html": [
              "<div>\n",
              "<style scoped>\n",
              "    .dataframe tbody tr th:only-of-type {\n",
              "        vertical-align: middle;\n",
              "    }\n",
              "\n",
              "    .dataframe tbody tr th {\n",
              "        vertical-align: top;\n",
              "    }\n",
              "\n",
              "    .dataframe thead th {\n",
              "        text-align: right;\n",
              "    }\n",
              "</style>\n",
              "<table border=\"1\" class=\"dataframe\">\n",
              "  <thead>\n",
              "    <tr style=\"text-align: right;\">\n",
              "      <th></th>\n",
              "      <th>school</th>\n",
              "      <th>sex</th>\n",
              "      <th>age</th>\n",
              "      <th>address</th>\n",
              "      <th>famsize</th>\n",
              "      <th>Pstatus</th>\n",
              "      <th>Medu</th>\n",
              "      <th>Fedu</th>\n",
              "      <th>Mjob</th>\n",
              "      <th>Fjob</th>\n",
              "      <th>...</th>\n",
              "      <th>famrel</th>\n",
              "      <th>freetime</th>\n",
              "      <th>goout</th>\n",
              "      <th>Dalc</th>\n",
              "      <th>Walc</th>\n",
              "      <th>health</th>\n",
              "      <th>absences</th>\n",
              "      <th>G1</th>\n",
              "      <th>G2</th>\n",
              "      <th>G3</th>\n",
              "    </tr>\n",
              "  </thead>\n",
              "  <tbody>\n",
              "    <tr>\n",
              "      <th>0</th>\n",
              "      <td>GP</td>\n",
              "      <td>F</td>\n",
              "      <td>18</td>\n",
              "      <td>U</td>\n",
              "      <td>GT3</td>\n",
              "      <td>A</td>\n",
              "      <td>4</td>\n",
              "      <td>4</td>\n",
              "      <td>at_home</td>\n",
              "      <td>teacher</td>\n",
              "      <td>...</td>\n",
              "      <td>4</td>\n",
              "      <td>3</td>\n",
              "      <td>4</td>\n",
              "      <td>1</td>\n",
              "      <td>1</td>\n",
              "      <td>3</td>\n",
              "      <td>6</td>\n",
              "      <td>5</td>\n",
              "      <td>6</td>\n",
              "      <td>6</td>\n",
              "    </tr>\n",
              "    <tr>\n",
              "      <th>1</th>\n",
              "      <td>GP</td>\n",
              "      <td>F</td>\n",
              "      <td>17</td>\n",
              "      <td>U</td>\n",
              "      <td>GT3</td>\n",
              "      <td>T</td>\n",
              "      <td>1</td>\n",
              "      <td>1</td>\n",
              "      <td>at_home</td>\n",
              "      <td>other</td>\n",
              "      <td>...</td>\n",
              "      <td>5</td>\n",
              "      <td>3</td>\n",
              "      <td>3</td>\n",
              "      <td>1</td>\n",
              "      <td>1</td>\n",
              "      <td>3</td>\n",
              "      <td>4</td>\n",
              "      <td>5</td>\n",
              "      <td>5</td>\n",
              "      <td>6</td>\n",
              "    </tr>\n",
              "    <tr>\n",
              "      <th>2</th>\n",
              "      <td>GP</td>\n",
              "      <td>F</td>\n",
              "      <td>15</td>\n",
              "      <td>U</td>\n",
              "      <td>LE3</td>\n",
              "      <td>T</td>\n",
              "      <td>1</td>\n",
              "      <td>1</td>\n",
              "      <td>at_home</td>\n",
              "      <td>other</td>\n",
              "      <td>...</td>\n",
              "      <td>4</td>\n",
              "      <td>3</td>\n",
              "      <td>2</td>\n",
              "      <td>2</td>\n",
              "      <td>3</td>\n",
              "      <td>3</td>\n",
              "      <td>10</td>\n",
              "      <td>7</td>\n",
              "      <td>8</td>\n",
              "      <td>10</td>\n",
              "    </tr>\n",
              "    <tr>\n",
              "      <th>3</th>\n",
              "      <td>GP</td>\n",
              "      <td>F</td>\n",
              "      <td>15</td>\n",
              "      <td>U</td>\n",
              "      <td>GT3</td>\n",
              "      <td>T</td>\n",
              "      <td>4</td>\n",
              "      <td>2</td>\n",
              "      <td>health</td>\n",
              "      <td>services</td>\n",
              "      <td>...</td>\n",
              "      <td>3</td>\n",
              "      <td>2</td>\n",
              "      <td>2</td>\n",
              "      <td>1</td>\n",
              "      <td>1</td>\n",
              "      <td>5</td>\n",
              "      <td>2</td>\n",
              "      <td>15</td>\n",
              "      <td>14</td>\n",
              "      <td>15</td>\n",
              "    </tr>\n",
              "    <tr>\n",
              "      <th>4</th>\n",
              "      <td>GP</td>\n",
              "      <td>F</td>\n",
              "      <td>16</td>\n",
              "      <td>U</td>\n",
              "      <td>GT3</td>\n",
              "      <td>T</td>\n",
              "      <td>3</td>\n",
              "      <td>3</td>\n",
              "      <td>other</td>\n",
              "      <td>other</td>\n",
              "      <td>...</td>\n",
              "      <td>4</td>\n",
              "      <td>3</td>\n",
              "      <td>2</td>\n",
              "      <td>1</td>\n",
              "      <td>2</td>\n",
              "      <td>5</td>\n",
              "      <td>4</td>\n",
              "      <td>6</td>\n",
              "      <td>10</td>\n",
              "      <td>10</td>\n",
              "    </tr>\n",
              "  </tbody>\n",
              "</table>\n",
              "<p>5 rows × 33 columns</p>\n",
              "</div>"
            ],
            "text/plain": [
              "  school sex  age address famsize Pstatus  Medu  Fedu     Mjob      Fjob ...  \\\n",
              "0     GP   F   18       U     GT3       A     4     4  at_home   teacher ...   \n",
              "1     GP   F   17       U     GT3       T     1     1  at_home     other ...   \n",
              "2     GP   F   15       U     LE3       T     1     1  at_home     other ...   \n",
              "3     GP   F   15       U     GT3       T     4     2   health  services ...   \n",
              "4     GP   F   16       U     GT3       T     3     3    other     other ...   \n",
              "\n",
              "  famrel freetime  goout  Dalc  Walc health absences  G1  G2  G3  \n",
              "0      4        3      4     1     1      3        6   5   6   6  \n",
              "1      5        3      3     1     1      3        4   5   5   6  \n",
              "2      4        3      2     2     3      3       10   7   8  10  \n",
              "3      3        2      2     1     1      5        2  15  14  15  \n",
              "4      4        3      2     1     2      5        4   6  10  10  \n",
              "\n",
              "[5 rows x 33 columns]"
            ]
          },
          "metadata": {
            "tags": []
          },
          "execution_count": 270
        }
      ]
    },
    {
      "metadata": {
        "id": "lFfHEK3YaTA9",
        "colab_type": "text"
      },
      "cell_type": "markdown",
      "source": [
        "This data is a record of 395 students from Portugese maths classes in two schools and the grades they recieved throughout the year. This data can be used to classify students by their personal data into the grades they may recieve.\n",
        "\n",
        "There are 33 columns to describe, 17 of which require encoding:\n",
        "\n",
        "*   school\n",
        "*   sex\n",
        "*   address\n",
        "*   famsize\n",
        "*   Pstatus\n",
        "*   Mjob\n",
        "*   Fjob\n",
        "*   reason\n",
        "*   guardian\n",
        "*   schoolsup\n",
        "*   famsup\n",
        "*   paid\n",
        "*   activities\n",
        "*   nursery\n",
        "*   higher\n",
        "*   internet\n",
        "*   romantic"
      ]
    },
    {
      "metadata": {
        "id": "uAcKi3JOrKcQ",
        "colab_type": "code",
        "colab": {
          "base_uri": "https://localhost:8080/",
          "height": 170
        },
        "outputId": "6a60031a-b88f-4953-c9d8-a472997abc86"
      },
      "cell_type": "code",
      "source": [
        "student_data.G3.describe()"
      ],
      "execution_count": 271,
      "outputs": [
        {
          "output_type": "execute_result",
          "data": {
            "text/plain": [
              "count    395.000000\n",
              "mean      10.415190\n",
              "std        4.581443\n",
              "min        0.000000\n",
              "25%        8.000000\n",
              "50%       11.000000\n",
              "75%       14.000000\n",
              "max       20.000000\n",
              "Name: G3, dtype: float64"
            ]
          },
          "metadata": {
            "tags": []
          },
          "execution_count": 271
        }
      ]
    },
    {
      "metadata": {
        "id": "O3mhKo4NrXBj",
        "colab_type": "text"
      },
      "cell_type": "markdown",
      "source": [
        "The most crucial column here for modelling student grades is G3. This column displays the final grade which the student recieved out of 20 ( [the traditional grading boundary for the Portugese school system]((# https://en.wikipedia.org/wiki/Academic_grading_in_Portugal))\n",
        "\n",
        "With this we can calculate the grade class using the get_grade() function defined above."
      ]
    },
    {
      "metadata": {
        "id": "UYFYE4jPaTA9",
        "colab_type": "text"
      },
      "cell_type": "markdown",
      "source": [
        "# Data pre-processing"
      ]
    },
    {
      "metadata": {
        "id": "wk-PugN3slNh",
        "colab_type": "code",
        "colab": {}
      },
      "cell_type": "code",
      "source": [
        "sns.set()\n",
        "\n",
        "student_data = pd.get_dummies(student_data)\n",
        "\n",
        "student_data['grade'] = student_data['G3'].apply(lambda score: get_grade(score))"
      ],
      "execution_count": 0,
      "outputs": []
    },
    {
      "metadata": {
        "id": "qXUfAY_9sthZ",
        "colab_type": "code",
        "colab": {
          "base_uri": "https://localhost:8080/",
          "height": 233
        },
        "outputId": "29ca658a-de95-495a-eb9d-fe1408a8ff9d"
      },
      "cell_type": "code",
      "source": [
        "student_data.head()"
      ],
      "execution_count": 273,
      "outputs": [
        {
          "output_type": "execute_result",
          "data": {
            "text/html": [
              "<div>\n",
              "<style scoped>\n",
              "    .dataframe tbody tr th:only-of-type {\n",
              "        vertical-align: middle;\n",
              "    }\n",
              "\n",
              "    .dataframe tbody tr th {\n",
              "        vertical-align: top;\n",
              "    }\n",
              "\n",
              "    .dataframe thead th {\n",
              "        text-align: right;\n",
              "    }\n",
              "</style>\n",
              "<table border=\"1\" class=\"dataframe\">\n",
              "  <thead>\n",
              "    <tr style=\"text-align: right;\">\n",
              "      <th></th>\n",
              "      <th>age</th>\n",
              "      <th>Medu</th>\n",
              "      <th>Fedu</th>\n",
              "      <th>traveltime</th>\n",
              "      <th>studytime</th>\n",
              "      <th>failures</th>\n",
              "      <th>famrel</th>\n",
              "      <th>freetime</th>\n",
              "      <th>goout</th>\n",
              "      <th>Dalc</th>\n",
              "      <th>...</th>\n",
              "      <th>activities_yes</th>\n",
              "      <th>nursery_no</th>\n",
              "      <th>nursery_yes</th>\n",
              "      <th>higher_no</th>\n",
              "      <th>higher_yes</th>\n",
              "      <th>internet_no</th>\n",
              "      <th>internet_yes</th>\n",
              "      <th>romantic_no</th>\n",
              "      <th>romantic_yes</th>\n",
              "      <th>grade</th>\n",
              "    </tr>\n",
              "  </thead>\n",
              "  <tbody>\n",
              "    <tr>\n",
              "      <th>0</th>\n",
              "      <td>18</td>\n",
              "      <td>4</td>\n",
              "      <td>4</td>\n",
              "      <td>2</td>\n",
              "      <td>2</td>\n",
              "      <td>0</td>\n",
              "      <td>4</td>\n",
              "      <td>3</td>\n",
              "      <td>4</td>\n",
              "      <td>1</td>\n",
              "      <td>...</td>\n",
              "      <td>0</td>\n",
              "      <td>0</td>\n",
              "      <td>1</td>\n",
              "      <td>0</td>\n",
              "      <td>1</td>\n",
              "      <td>1</td>\n",
              "      <td>0</td>\n",
              "      <td>1</td>\n",
              "      <td>0</td>\n",
              "      <td>1</td>\n",
              "    </tr>\n",
              "    <tr>\n",
              "      <th>1</th>\n",
              "      <td>17</td>\n",
              "      <td>1</td>\n",
              "      <td>1</td>\n",
              "      <td>1</td>\n",
              "      <td>2</td>\n",
              "      <td>0</td>\n",
              "      <td>5</td>\n",
              "      <td>3</td>\n",
              "      <td>3</td>\n",
              "      <td>1</td>\n",
              "      <td>...</td>\n",
              "      <td>0</td>\n",
              "      <td>1</td>\n",
              "      <td>0</td>\n",
              "      <td>0</td>\n",
              "      <td>1</td>\n",
              "      <td>0</td>\n",
              "      <td>1</td>\n",
              "      <td>1</td>\n",
              "      <td>0</td>\n",
              "      <td>1</td>\n",
              "    </tr>\n",
              "    <tr>\n",
              "      <th>2</th>\n",
              "      <td>15</td>\n",
              "      <td>1</td>\n",
              "      <td>1</td>\n",
              "      <td>1</td>\n",
              "      <td>2</td>\n",
              "      <td>3</td>\n",
              "      <td>4</td>\n",
              "      <td>3</td>\n",
              "      <td>2</td>\n",
              "      <td>2</td>\n",
              "      <td>...</td>\n",
              "      <td>0</td>\n",
              "      <td>0</td>\n",
              "      <td>1</td>\n",
              "      <td>0</td>\n",
              "      <td>1</td>\n",
              "      <td>0</td>\n",
              "      <td>1</td>\n",
              "      <td>1</td>\n",
              "      <td>0</td>\n",
              "      <td>2</td>\n",
              "    </tr>\n",
              "    <tr>\n",
              "      <th>3</th>\n",
              "      <td>15</td>\n",
              "      <td>4</td>\n",
              "      <td>2</td>\n",
              "      <td>1</td>\n",
              "      <td>3</td>\n",
              "      <td>0</td>\n",
              "      <td>3</td>\n",
              "      <td>2</td>\n",
              "      <td>2</td>\n",
              "      <td>1</td>\n",
              "      <td>...</td>\n",
              "      <td>1</td>\n",
              "      <td>0</td>\n",
              "      <td>1</td>\n",
              "      <td>0</td>\n",
              "      <td>1</td>\n",
              "      <td>0</td>\n",
              "      <td>1</td>\n",
              "      <td>0</td>\n",
              "      <td>1</td>\n",
              "      <td>4</td>\n",
              "    </tr>\n",
              "    <tr>\n",
              "      <th>4</th>\n",
              "      <td>16</td>\n",
              "      <td>3</td>\n",
              "      <td>3</td>\n",
              "      <td>1</td>\n",
              "      <td>2</td>\n",
              "      <td>0</td>\n",
              "      <td>4</td>\n",
              "      <td>3</td>\n",
              "      <td>2</td>\n",
              "      <td>1</td>\n",
              "      <td>...</td>\n",
              "      <td>0</td>\n",
              "      <td>0</td>\n",
              "      <td>1</td>\n",
              "      <td>0</td>\n",
              "      <td>1</td>\n",
              "      <td>1</td>\n",
              "      <td>0</td>\n",
              "      <td>1</td>\n",
              "      <td>0</td>\n",
              "      <td>2</td>\n",
              "    </tr>\n",
              "  </tbody>\n",
              "</table>\n",
              "<p>5 rows × 60 columns</p>\n",
              "</div>"
            ],
            "text/plain": [
              "   age  Medu  Fedu  traveltime  studytime  failures  famrel  freetime  goout  \\\n",
              "0   18     4     4           2          2         0       4         3      4   \n",
              "1   17     1     1           1          2         0       5         3      3   \n",
              "2   15     1     1           1          2         3       4         3      2   \n",
              "3   15     4     2           1          3         0       3         2      2   \n",
              "4   16     3     3           1          2         0       4         3      2   \n",
              "\n",
              "   Dalc  ...    activities_yes  nursery_no  nursery_yes  higher_no  \\\n",
              "0     1  ...                 0           0            1          0   \n",
              "1     1  ...                 0           1            0          0   \n",
              "2     2  ...                 0           0            1          0   \n",
              "3     1  ...                 1           0            1          0   \n",
              "4     1  ...                 0           0            1          0   \n",
              "\n",
              "   higher_yes  internet_no  internet_yes  romantic_no  romantic_yes  grade  \n",
              "0           1            1             0            1             0      1  \n",
              "1           1            0             1            1             0      1  \n",
              "2           1            0             1            1             0      2  \n",
              "3           1            0             1            0             1      4  \n",
              "4           1            1             0            1             0      2  \n",
              "\n",
              "[5 rows x 60 columns]"
            ]
          },
          "metadata": {
            "tags": []
          },
          "execution_count": 273
        }
      ]
    },
    {
      "metadata": {
        "id": "yAxxT8MnszqY",
        "colab_type": "code",
        "colab": {
          "base_uri": "https://localhost:8080/",
          "height": 34
        },
        "outputId": "55f43571-6cd3-463b-a33b-0aa926028883"
      },
      "cell_type": "code",
      "source": [
        "student_data.shape"
      ],
      "execution_count": 274,
      "outputs": [
        {
          "output_type": "execute_result",
          "data": {
            "text/plain": [
              "(395, 60)"
            ]
          },
          "metadata": {
            "tags": []
          },
          "execution_count": 274
        }
      ]
    },
    {
      "metadata": {
        "id": "WFSkeKj-s2KK",
        "colab_type": "text"
      },
      "cell_type": "markdown",
      "source": [
        "This data pre-processing gets the dummies of the columns which should be encoded as numbers and transforms them into many descriptive columns of 1s and 0s (as opposed to few columns of descriptive entries).\n",
        "\n",
        "Additionally the student's final grade class is appended to the end of their data entry via a lambda function calling the get_grade() function defined earlier."
      ]
    },
    {
      "metadata": {
        "id": "Ex8EsvF5aTA-",
        "colab_type": "text"
      },
      "cell_type": "markdown",
      "source": [
        "# Clustering"
      ]
    },
    {
      "metadata": {
        "id": "bWsatFZct7T2",
        "colab_type": "code",
        "colab": {}
      },
      "cell_type": "code",
      "source": [
        "feature_columns = get_feature_columns(student_data)\n",
        "x = get_x(student_data, feature_columns)\n",
        "\n",
        "clusters = get_clusters(x)"
      ],
      "execution_count": 0,
      "outputs": []
    },
    {
      "metadata": {
        "id": "TrxC6-i-Yq8w",
        "colab_type": "text"
      },
      "cell_type": "markdown",
      "source": [
        "Here you can see that we get the feature columns (all columns without the grades) and the data from them, then pass it to the clustering function.\n",
        "\n",
        "```python\n",
        "def get_clusters(_x):\n",
        "    km = KMeans(n_clusters=5)\n",
        "    km.fit(_x)\n",
        "    return km.predict(_x)\n",
        "  ```\n",
        "  This will, when passed the values from the feature columns, return 5 clusters of data using the K-Means clustering algorithm. \n",
        "  \n",
        "  The K-Means algorithm will find 5 groups from the data by iteratively assigning each piece of data to one of the clusters based on the similarity of features between other pieces of data."
      ]
    },
    {
      "metadata": {
        "id": "Q3XaG1kha6W3",
        "colab_type": "code",
        "colab": {}
      },
      "cell_type": "code",
      "source": [
        "student_data['cluster'] = clusters\n",
        "\n",
        "feature_columns = get_feature_columns(student_data)\n",
        "x = get_x(student_data, feature_columns)\n",
        "y = get_y(student_data)"
      ],
      "execution_count": 0,
      "outputs": []
    },
    {
      "metadata": {
        "id": "NM_H3hq7a9gs",
        "colab_type": "text"
      },
      "cell_type": "markdown",
      "source": [
        "The original student data frame must then be appended with the cluster column (to help with classification in the model later on).\n",
        "\n",
        "Seeing as we change the data frame, we must then change the other variables which rely on that data frame - thus we update both feature_columns and x in order for them to contain the new 'cluster' column. \n",
        "\n",
        "After this, we can set up a y column, which returns only the target values (from the 'grades' column)."
      ]
    },
    {
      "metadata": {
        "id": "JKcONoaaukXJ",
        "colab_type": "code",
        "colab": {
          "base_uri": "https://localhost:8080/",
          "height": 54
        },
        "outputId": "963719fa-b03d-43e1-9c51-46760a48062f"
      },
      "cell_type": "code",
      "source": [
        "print(feature_columns)"
      ],
      "execution_count": 277,
      "outputs": [
        {
          "output_type": "stream",
          "text": [
            "['age', 'Medu', 'Fedu', 'traveltime', 'studytime', 'failures', 'famrel', 'freetime', 'goout', 'Dalc', 'Walc', 'health', 'absences', 'G1', 'G2', 'G3', 'school_GP', 'school_MS', 'sex_F', 'sex_M', 'address_R', 'address_U', 'famsize_GT3', 'famsize_LE3', 'Pstatus_A', 'Pstatus_T', 'Mjob_at_home', 'Mjob_health', 'Mjob_other', 'Mjob_services', 'Mjob_teacher', 'Fjob_at_home', 'Fjob_health', 'Fjob_other', 'Fjob_services', 'Fjob_teacher', 'reason_course', 'reason_home', 'reason_other', 'reason_reputation', 'guardian_father', 'guardian_mother', 'guardian_other', 'schoolsup_no', 'schoolsup_yes', 'famsup_no', 'famsup_yes', 'paid_no', 'paid_yes', 'activities_no', 'activities_yes', 'nursery_no', 'nursery_yes', 'higher_no', 'higher_yes', 'internet_no', 'internet_yes', 'romantic_no', 'romantic_yes', 'cluster']\n"
          ],
          "name": "stdout"
        }
      ]
    },
    {
      "metadata": {
        "id": "T5uApXflaTA_",
        "colab_type": "text"
      },
      "cell_type": "markdown",
      "source": [
        "# Scatter plotting"
      ]
    },
    {
      "metadata": {
        "id": "v4bzwVbDbxZx",
        "colab_type": "text"
      },
      "cell_type": "markdown",
      "source": [
        "The below code will pass the students data into the get_tsne_data() function which uses *'t-Distributed Stochastic Neighbor Embedding'* (TSNE) to reduce the dimensions of our data. We have to do this before plotting the data as we have roughly 60 columns of data - far too many to plot on a single dimension scatter plot!\n",
        "\n",
        "```python\n",
        "def get_tsne_data(data, _x):\n",
        "    tsne = TSNE(n_components=2, verbose=1, perplexity=40, n_iter=300)\n",
        "    tsne_results = tsne.fit_transform(_x)\n",
        "    data_tsne = data.copy(deep=True)\n",
        "    data_tsne['x-tsne'] = tsne_results[:, 0]\n",
        "    data_tsne['y-tsne'] = tsne_results[:, 1]\n",
        "    return data_tsne\n",
        "  ```\n",
        "\n",
        "This function uses the built-in `sklearn.manifold.TSNE`  module under the scikitlearn package."
      ]
    },
    {
      "metadata": {
        "id": "PN8B-Dazu6l3",
        "colab_type": "code",
        "colab": {
          "base_uri": "https://localhost:8080/",
          "height": 466
        },
        "outputId": "cc5ef888-b5ce-432b-d352-614345978ff6"
      },
      "cell_type": "code",
      "source": [
        "plt.figure(0)\n",
        "\n",
        "student_tsne = get_tsne_data(student_data, x)\n",
        "plt.scatter(student_tsne['x-tsne'], student_tsne['y-tsne'], c=clusters, cmap='Set3')\n",
        "\n",
        "plt.show()"
      ],
      "execution_count": 278,
      "outputs": [
        {
          "output_type": "stream",
          "text": [
            "[t-SNE] Computing 121 nearest neighbors...\n",
            "[t-SNE] Indexed 395 samples in 0.001s...\n",
            "[t-SNE] Computed neighbors for 395 samples in 0.023s...\n",
            "[t-SNE] Computed conditional probabilities for sample 395 / 395\n",
            "[t-SNE] Mean sigma: 3.156946\n",
            "[t-SNE] KL divergence after 250 iterations with early exaggeration: 61.280064\n",
            "[t-SNE] Error after 300 iterations: 0.521067\n"
          ],
          "name": "stdout"
        },
        {
          "output_type": "display_data",
          "data": {
            "image/png": "[encoded data removed]",
            "text/plain": [
              "<matplotlib.figure.Figure at 0x7f62c40b1a90>"
            ]
          },
          "metadata": {
            "tags": []
          }
        }
      ]
    },
    {
      "metadata": {
        "id": "h0MVlr8qaTBB",
        "colab_type": "text"
      },
      "cell_type": "markdown",
      "source": [
        "# Parameter tuning"
      ]
    },
    {
      "metadata": {
        "id": "uGVMlPKzd5k8",
        "colab_type": "text"
      },
      "cell_type": "markdown",
      "source": [
        "Below we begin parameter tuning, which basically tests out the Logistic Regression model for the best series of parameters to pass it. The parameters we test out include penalty (the type of 'punishment' we give the model if it predicts incorrectly - either l1 or l2) and C (the strength of regularization used to reduce overfitting).\n",
        "\n",
        "The model will be cross-validated 25 times within each test, then the results output to a plot of each model's accuracies per parameter variation."
      ]
    },
    {
      "metadata": {
        "id": "zbYhpNBrvTU_",
        "colab_type": "code",
        "colab": {
          "base_uri": "https://localhost:8080/",
          "height": 606
        },
        "outputId": "7b73c301-c30a-4c28-a2f9-62279de026dc"
      },
      "cell_type": "code",
      "source": [
        "plt.figure(1, figsize=(16, 10))\n",
        "c_set = [1, 100, 1000]\n",
        "penalty_set = ['l1', 'l2']\n",
        "ctr = 1\n",
        "\n",
        "for ix, c_param in enumerate(c_set):\n",
        "    for jx, penalty_param in enumerate(penalty_set):\n",
        "        r_accuracies_train = []\n",
        "        r_accuracies_test = []\n",
        "        for i in range(25):\n",
        "            train_x, test_x, train_y, test_y = train_test_split(x, y, test_size=0.33, random_state=42)\n",
        "\n",
        "            regression_model = LogisticRegression(penalty=penalty_param, C=c_param)\n",
        "\n",
        "            regression_model.fit(train_x, train_y)\n",
        "\n",
        "            r_accuracies_train.append(regression_model.score(train_x, train_y))\n",
        "            r_accuracies_test.append(regression_model.score(test_x, test_y))\n",
        "\n",
        "        plt.subplot(len(c_set), len(penalty_set), ctr)\n",
        "        ctr += 1\n",
        "\n",
        "        assert len(r_accuracies_train) == len(r_accuracies_test)\n",
        "\n",
        "        plt.plot(range(len(r_accuracies_train)), r_accuracies_train, label='Train')\n",
        "        plt.plot(range(len(r_accuracies_test)), r_accuracies_test, label='Test')\n",
        "\n",
        "        plt.ylim(0.8, 1.0)\n",
        "\n",
        "        plt.legend(loc='upper left')\n",
        "        plt.title(\"C({}), Penalty({})\".format(c_param, penalty_param))\n",
        "\n",
        "plt.show()\n"
      ],
      "execution_count": 279,
      "outputs": [
        {
          "output_type": "display_data",
          "data": {
            "image/png": "[encoded data removed]",
            "text/plain": [
              "<matplotlib.figure.Figure at 0x7f62c330f7d0>"
            ]
          },
          "metadata": {
            "tags": []
          }
        }
      ]
    },
    {
      "metadata": {
        "id": "O7eQurpLh1dv",
        "colab_type": "text"
      },
      "cell_type": "markdown",
      "source": [
        "As you can (hopefully) see above, a C variable of 100 and an l1 penalty produce the most consistent model, thus should be used as the parameters for the final fit of the model."
      ]
    },
    {
      "metadata": {
        "id": "vXTV8YhwaTBB",
        "colab_type": "text"
      },
      "cell_type": "markdown",
      "source": [
        "# Cross validation"
      ]
    },
    {
      "metadata": {
        "id": "Hvyor55xkoGL",
        "colab_type": "text"
      },
      "cell_type": "markdown",
      "source": [
        "he cross validation is performed by looping through the model-making process a number of times to find its accuracy when tested against a subset of data.\n",
        "\n",
        "These results are both printed to the console (for general browsing, but not in a particularly readable/manipulateable way) and stored in a cross validation dataframe (for data manipulation, better viewing, and access to extra pandas functionality)."
      ]
    },
    {
      "metadata": {
        "id": "gfKrEzxeaTBD",
        "colab_type": "code",
        "colab": {
          "base_uri": "https://localhost:8080/",
          "height": 765
        },
        "outputId": "42ee124b-8727-4d45-de42-862afca0667d"
      },
      "cell_type": "code",
      "source": [
        "cv_frame = pd.DataFrame(columns=[\n",
        "  'TreeTestAccuracy',\n",
        "  'TreeTrainAccuracy',\n",
        "  'RegressionTestAccuracy',\n",
        "  'RegressionTrainAccuracy'\n",
        "])\n",
        "\n",
        "\n",
        "for i in range(11):\n",
        "  # Create testing and training datasets from the previously declared x (feature column values) and y (target column values) variables\n",
        "  train_x, test_x, train_y, test_y = train_test_split(x, y, test_size=0.25)\n",
        "  \n",
        "  # Set up the models with the tuned parameters\n",
        "  regression_model = LogisticRegression(penalty='l1', C=100)\n",
        "  tree_model = RandomForestClassifier(n_estimators=15, max_depth=5)\n",
        "  \n",
        "  # Pass the training data into the models\n",
        "  tree_model.fit(train_x, train_y)\n",
        "  regression_model.fit(train_x, train_y)\n",
        "  \n",
        "  # Calculate the accuracy 'score's for each model by checking against both the training and test data\n",
        "  # Then save it to a seperate variable as a percentage instead of a decimal (for ease of reading)\n",
        "  tree_test_score = percentage(tree_model.score(test_x, test_y))\n",
        "  tree_train_score = percentage(tree_model.score(train_x, train_y))\n",
        "  regression_test_score = percentage(regression_model.score(test_x, test_y))\n",
        "  regression_train_score =percentage(regression_model.score(train_x, train_y))\n",
        "  \n",
        "  # Print the Tree Test and Regression Test scores\n",
        "  print('TTe: {}'.format(tree_test_score))\n",
        "  print('RTe: {}'.format(regression_test_score))\n",
        "\n",
        "  # Print the Tree Train and Regression Train scores\n",
        "  print('TTr: {}'.format(tree_train_score))\n",
        "  print('RTr: {}'.format(regression_train_score))\n",
        "  \n",
        "  # Add all of the scores to a new row in the cross validation dataframe\n",
        "  cv_frame.loc[i] = [\n",
        "      tree_test_score, \n",
        "      tree_train_score, \n",
        "      regression_test_score, \n",
        "      regression_train_score\n",
        "  ]\n",
        "  \n",
        "  # Repeat until all (minimum 10) loops of cros validation have been completed"
      ],
      "execution_count": 280,
      "outputs": [
        {
          "output_type": "stream",
          "text": [
            "TTe: 92.9292929293\n",
            "RTe: 53.5353535354\n",
            "TTr: 96.9594594595\n",
            "RTr: 83.7837837838\n",
            "TTe: 85.8585858586\n",
            "RTe: 61.6161616162\n",
            "TTr: 97.2972972973\n",
            "RTr: 80.7432432432\n",
            "TTe: 89.898989899\n",
            "RTe: 64.6464646465\n",
            "TTr: 95.2702702703\n",
            "RTr: 79.7297297297\n",
            "TTe: 89.898989899\n",
            "RTe: 59.595959596\n",
            "TTr: 97.2972972973\n",
            "RTr: 82.4324324324\n",
            "TTe: 85.8585858586\n",
            "RTe: 57.5757575758\n",
            "TTr: 97.2972972973\n",
            "RTr: 82.7702702703\n",
            "TTe: 91.9191919192\n",
            "RTe: 70.7070707071\n",
            "TTr: 97.972972973\n",
            "RTr: 82.0945945946\n",
            "TTe: 83.8383838384\n",
            "RTe: 51.5151515152\n",
            "TTr: 96.9594594595\n",
            "RTr: 81.4189189189\n",
            "TTe: 81.8181818182\n",
            "RTe: 58.5858585859\n",
            "TTr: 95.6081081081\n",
            "RTr: 80.7432432432\n",
            "TTe: 87.8787878788\n",
            "RTe: 57.5757575758\n",
            "TTr: 94.9324324324\n",
            "RTr: 82.7702702703\n",
            "TTe: 85.8585858586\n",
            "RTe: 60.6060606061\n",
            "TTr: 95.9459459459\n",
            "RTr: 82.0945945946\n",
            "TTe: 85.8585858586\n",
            "RTe: 62.6262626263\n",
            "TTr: 93.2432432432\n",
            "RTr: 80.0675675676\n"
          ],
          "name": "stdout"
        }
      ]
    },
    {
      "metadata": {
        "id": "oilet_jDnr6a",
        "colab_type": "text"
      },
      "cell_type": "markdown",
      "source": [
        "Below is the cross validation dataframe containing the accuracy scores."
      ]
    },
    {
      "metadata": {
        "id": "JU_x7MHG7foN",
        "colab_type": "code",
        "colab": {
          "base_uri": "https://localhost:8080/",
          "height": 390
        },
        "outputId": "91a718b6-89f2-49ad-a31c-980f864ed227"
      },
      "cell_type": "code",
      "source": [
        "\n",
        "display(cv_frame)"
      ],
      "execution_count": 281,
      "outputs": [
        {
          "output_type": "display_data",
          "data": {
            "text/plain": [
              "    TreeTestAccuracy  TreeTrainAccuracy  RegressionTestAccuracy  \\\n",
              "0          92.929293          96.959459               53.535354   \n",
              "1          85.858586          97.297297               61.616162   \n",
              "2          89.898990          95.270270               64.646465   \n",
              "3          89.898990          97.297297               59.595960   \n",
              "4          85.858586          97.297297               57.575758   \n",
              "5          91.919192          97.972973               70.707071   \n",
              "6          83.838384          96.959459               51.515152   \n",
              "7          81.818182          95.608108               58.585859   \n",
              "8          87.878788          94.932432               57.575758   \n",
              "9          85.858586          95.945946               60.606061   \n",
              "10         85.858586          93.243243               62.626263   \n",
              "\n",
              "    RegressionTrainAccuracy  \n",
              "0                 83.783784  \n",
              "1                 80.743243  \n",
              "2                 79.729730  \n",
              "3                 82.432432  \n",
              "4                 82.770270  \n",
              "5                 82.094595  \n",
              "6                 81.418919  \n",
              "7                 80.743243  \n",
              "8                 82.770270  \n",
              "9                 82.094595  \n",
              "10                80.067568  "
            ],
            "text/html": [
              "<div>\n",
              "<style scoped>\n",
              "    .dataframe tbody tr th:only-of-type {\n",
              "        vertical-align: middle;\n",
              "    }\n",
              "\n",
              "    .dataframe tbody tr th {\n",
              "        vertical-align: top;\n",
              "    }\n",
              "\n",
              "    .dataframe thead th {\n",
              "        text-align: right;\n",
              "    }\n",
              "</style>\n",
              "<table border=\"1\" class=\"dataframe\">\n",
              "  <thead>\n",
              "    <tr style=\"text-align: right;\">\n",
              "      <th></th>\n",
              "      <th>TreeTestAccuracy</th>\n",
              "      <th>TreeTrainAccuracy</th>\n",
              "      <th>RegressionTestAccuracy</th>\n",
              "      <th>RegressionTrainAccuracy</th>\n",
              "    </tr>\n",
              "  </thead>\n",
              "  <tbody>\n",
              "    <tr>\n",
              "      <th>0</th>\n",
              "      <td>92.929293</td>\n",
              "      <td>96.959459</td>\n",
              "      <td>53.535354</td>\n",
              "      <td>83.783784</td>\n",
              "    </tr>\n",
              "    <tr>\n",
              "      <th>1</th>\n",
              "      <td>85.858586</td>\n",
              "      <td>97.297297</td>\n",
              "      <td>61.616162</td>\n",
              "      <td>80.743243</td>\n",
              "    </tr>\n",
              "    <tr>\n",
              "      <th>2</th>\n",
              "      <td>89.898990</td>\n",
              "      <td>95.270270</td>\n",
              "      <td>64.646465</td>\n",
              "      <td>79.729730</td>\n",
              "    </tr>\n",
              "    <tr>\n",
              "      <th>3</th>\n",
              "      <td>89.898990</td>\n",
              "      <td>97.297297</td>\n",
              "      <td>59.595960</td>\n",
              "      <td>82.432432</td>\n",
              "    </tr>\n",
              "    <tr>\n",
              "      <th>4</th>\n",
              "      <td>85.858586</td>\n",
              "      <td>97.297297</td>\n",
              "      <td>57.575758</td>\n",
              "      <td>82.770270</td>\n",
              "    </tr>\n",
              "    <tr>\n",
              "      <th>5</th>\n",
              "      <td>91.919192</td>\n",
              "      <td>97.972973</td>\n",
              "      <td>70.707071</td>\n",
              "      <td>82.094595</td>\n",
              "    </tr>\n",
              "    <tr>\n",
              "      <th>6</th>\n",
              "      <td>83.838384</td>\n",
              "      <td>96.959459</td>\n",
              "      <td>51.515152</td>\n",
              "      <td>81.418919</td>\n",
              "    </tr>\n",
              "    <tr>\n",
              "      <th>7</th>\n",
              "      <td>81.818182</td>\n",
              "      <td>95.608108</td>\n",
              "      <td>58.585859</td>\n",
              "      <td>80.743243</td>\n",
              "    </tr>\n",
              "    <tr>\n",
              "      <th>8</th>\n",
              "      <td>87.878788</td>\n",
              "      <td>94.932432</td>\n",
              "      <td>57.575758</td>\n",
              "      <td>82.770270</td>\n",
              "    </tr>\n",
              "    <tr>\n",
              "      <th>9</th>\n",
              "      <td>85.858586</td>\n",
              "      <td>95.945946</td>\n",
              "      <td>60.606061</td>\n",
              "      <td>82.094595</td>\n",
              "    </tr>\n",
              "    <tr>\n",
              "      <th>10</th>\n",
              "      <td>85.858586</td>\n",
              "      <td>93.243243</td>\n",
              "      <td>62.626263</td>\n",
              "      <td>80.067568</td>\n",
              "    </tr>\n",
              "  </tbody>\n",
              "</table>\n",
              "</div>"
            ]
          },
          "metadata": {
            "tags": []
          }
        }
      ]
    },
    {
      "metadata": {
        "id": "biliyexyn3WL",
        "colab_type": "text"
      },
      "cell_type": "markdown",
      "source": [
        "Below is the general description for the cross validation dataframe, including the mean accuracy for each column along with the minimum and maximum values."
      ]
    },
    {
      "metadata": {
        "id": "MHr1mwbXN4KT",
        "colab_type": "code",
        "colab": {
          "base_uri": "https://localhost:8080/",
          "height": 297
        },
        "outputId": "e59a950c-146a-481c-d7c9-59b31d23d0d7"
      },
      "cell_type": "code",
      "source": [
        "cv_frame.describe()"
      ],
      "execution_count": 282,
      "outputs": [
        {
          "output_type": "execute_result",
          "data": {
            "text/html": [
              "<div>\n",
              "<style scoped>\n",
              "    .dataframe tbody tr th:only-of-type {\n",
              "        vertical-align: middle;\n",
              "    }\n",
              "\n",
              "    .dataframe tbody tr th {\n",
              "        vertical-align: top;\n",
              "    }\n",
              "\n",
              "    .dataframe thead th {\n",
              "        text-align: right;\n",
              "    }\n",
              "</style>\n",
              "<table border=\"1\" class=\"dataframe\">\n",
              "  <thead>\n",
              "    <tr style=\"text-align: right;\">\n",
              "      <th></th>\n",
              "      <th>TreeTestAccuracy</th>\n",
              "      <th>TreeTrainAccuracy</th>\n",
              "      <th>RegressionTestAccuracy</th>\n",
              "      <th>RegressionTrainAccuracy</th>\n",
              "    </tr>\n",
              "  </thead>\n",
              "  <tbody>\n",
              "    <tr>\n",
              "      <th>count</th>\n",
              "      <td>11.000000</td>\n",
              "      <td>11.000000</td>\n",
              "      <td>11.000000</td>\n",
              "      <td>11.000000</td>\n",
              "    </tr>\n",
              "    <tr>\n",
              "      <th>mean</th>\n",
              "      <td>87.419651</td>\n",
              "      <td>96.253071</td>\n",
              "      <td>59.871442</td>\n",
              "      <td>81.695332</td>\n",
              "    </tr>\n",
              "    <tr>\n",
              "      <th>std</th>\n",
              "      <td>3.421355</td>\n",
              "      <td>1.396661</td>\n",
              "      <td>5.230937</td>\n",
              "      <td>1.262431</td>\n",
              "    </tr>\n",
              "    <tr>\n",
              "      <th>min</th>\n",
              "      <td>81.818182</td>\n",
              "      <td>93.243243</td>\n",
              "      <td>51.515152</td>\n",
              "      <td>79.729730</td>\n",
              "    </tr>\n",
              "    <tr>\n",
              "      <th>25%</th>\n",
              "      <td>85.858586</td>\n",
              "      <td>95.439189</td>\n",
              "      <td>57.575758</td>\n",
              "      <td>80.743243</td>\n",
              "    </tr>\n",
              "    <tr>\n",
              "      <th>50%</th>\n",
              "      <td>85.858586</td>\n",
              "      <td>96.959459</td>\n",
              "      <td>59.595960</td>\n",
              "      <td>82.094595</td>\n",
              "    </tr>\n",
              "    <tr>\n",
              "      <th>75%</th>\n",
              "      <td>89.898990</td>\n",
              "      <td>97.297297</td>\n",
              "      <td>62.121212</td>\n",
              "      <td>82.601351</td>\n",
              "    </tr>\n",
              "    <tr>\n",
              "      <th>max</th>\n",
              "      <td>92.929293</td>\n",
              "      <td>97.972973</td>\n",
              "      <td>70.707071</td>\n",
              "      <td>83.783784</td>\n",
              "    </tr>\n",
              "  </tbody>\n",
              "</table>\n",
              "</div>"
            ],
            "text/plain": [
              "       TreeTestAccuracy  TreeTrainAccuracy  RegressionTestAccuracy  \\\n",
              "count         11.000000          11.000000               11.000000   \n",
              "mean          87.419651          96.253071               59.871442   \n",
              "std            3.421355           1.396661                5.230937   \n",
              "min           81.818182          93.243243               51.515152   \n",
              "25%           85.858586          95.439189               57.575758   \n",
              "50%           85.858586          96.959459               59.595960   \n",
              "75%           89.898990          97.297297               62.121212   \n",
              "max           92.929293          97.972973               70.707071   \n",
              "\n",
              "       RegressionTrainAccuracy  \n",
              "count                11.000000  \n",
              "mean                 81.695332  \n",
              "std                   1.262431  \n",
              "min                  79.729730  \n",
              "25%                  80.743243  \n",
              "50%                  82.094595  \n",
              "75%                  82.601351  \n",
              "max                  83.783784  "
            ]
          },
          "metadata": {
            "tags": []
          },
          "execution_count": 282
        }
      ]
    },
    {
      "metadata": {
        "id": "P9QZbSXmNczt",
        "colab_type": "text"
      },
      "cell_type": "markdown",
      "source": [
        "# Plotting the model accuracies"
      ]
    },
    {
      "metadata": {
        "id": "LkUtwuL5rn9B",
        "colab_type": "code",
        "colab": {
          "base_uri": "https://localhost:8080/",
          "height": 393
        },
        "outputId": "212cae15-3b06-4129-d707-7d1daa7b8332"
      },
      "cell_type": "code",
      "source": [
        "plt.figure(2)\n",
        "\n",
        "f, axarr = plt.subplots(2, 2, sharex='all')\n",
        "\n",
        "axarr[0, 0].set_title('Tree Test')\n",
        "axarr[0, 0].axis([1, 10, 0, 100])\n",
        "axarr[0, 0].xaxis.set_major_locator(MaxNLocator(integer=True))\n",
        "\n",
        "axarr[0, 1].set_title('Tree Train')\n",
        "axarr[0, 1].axis([1, 10, 0, 100])\n",
        "axarr[0, 1].xaxis.set_major_locator(MaxNLocator(integer=True))\n",
        "\n",
        "axarr[1, 0].set_title('Regression Test')\n",
        "axarr[1, 0].axis([1, 10, 0, 100])\n",
        "axarr[1, 0].xaxis.set_major_locator(MaxNLocator(integer=True))\n",
        "\n",
        "axarr[1, 1].set_title('Regression Train')\n",
        "axarr[1, 1].axis([1, 10, 0, 100])\n",
        "axarr[1, 1].xaxis.set_major_locator(MaxNLocator(integer=True))\n",
        "\n",
        "for ax in axarr.flat:\n",
        "    ax.set(xlabel='Pass number', ylabel='Accuracy (%)')\n",
        "for ax in axarr.flat:\n",
        "    ax.label_outer()\n",
        "\n",
        "axarr[0, 0].plot(\n",
        "    cv_frame['TreeTestAccuracy'].get_values(),\n",
        "    color='green'\n",
        ")\n",
        "axarr[0, 1].plot(\n",
        "    cv_frame['TreeTrainAccuracy'].get_values(),\n",
        "    color='blue'\n",
        ")\n",
        "axarr[1, 0].plot(\n",
        "    cv_frame['RegressionTestAccuracy'].get_values(),\n",
        "    color='orange'\n",
        ")\n",
        "axarr[1, 1].plot(\n",
        "    cv_frame['RegressionTrainAccuracy'].get_values(),\n",
        "    color='red'\n",
        ")\n",
        "\n",
        "plt.show()"
      ],
      "execution_count": 283,
      "outputs": [
        {
          "output_type": "display_data",
          "data": {
            "text/plain": [
              "<matplotlib.figure.Figure at 0x7f62c3613290>"
            ]
          },
          "metadata": {
            "tags": []
          }
        },
        {
          "output_type": "display_data",
          "data": {
            "image/png": "[encoded data removed]",
            "text/plain": [
              "<matplotlib.figure.Figure at 0x7f62c3613490>"
            ]
          },
          "metadata": {
            "tags": []
          }
        }
      ]
    },
    {
      "metadata": {
        "id": "MAIPnpPPoPZS",
        "colab_type": "text"
      },
      "cell_type": "markdown",
      "source": [
        "So to begin an analysis, we can ignore both Training tables. This is because validating a model against the data which it was passed anyway somewhat defeats the purpose of validating it as a whole, but it is still interesting to see the results of it - that the Tree model is still more consistently accurate than the Regression model.\n",
        "\n",
        "As you can (hopefully) see when looking at only the Regression and Tree Test graphs, the Regression Test yields rather terrible results in comparison to the results of the Tree Test. \n",
        "\n",
        "This is likely because the dataset is very small (only 395 entries), and the Logistic Regression algorithm cannot perform fully with such a small set of data. If more data was to be gathered (consistent to the grading and subject), then the Logistic Regression model may be more adviseable. \n",
        "\n",
        "For now - with such a small dataset - a Random Forest Classifier Model appears to be most accurate and most robust. This is why I more highly recommended this model, as opposed to the Logistic Regression Model, for the current use (analysing small groups of data with a fairly large number of columns)."
      ]
    }
  ]
}