{
 "cells": [
  {
   "cell_type": "code",
   "execution_count": null,
   "metadata": {
    "colab": {},
    "colab_type": "code",
    "id": "UjWg4TSFL1tO"
   },
   "outputs": [],
   "source": [
    "csv_file_uri = 'https://archive.ics.uci.edu/ml/machine-learning-databases/iris/iris.data'"
   ]
  },
  {
   "cell_type": "code",
   "execution_count": null,
   "metadata": {
    "colab": {},
    "colab_type": "code",
    "id": "xa4LY3i8NDdr"
   },
   "outputs": [],
   "source": [
    "import pandas as pd\n",
    "\n",
    "# Plotting libraries\n",
    "import matplotlib.pyplot as plt\n",
    "plt.style.use('seaborn-whitegrid')"
   ]
  },
  {
   "cell_type": "code",
   "execution_count": null,
   "metadata": {
    "colab": {
     "base_uri": "https://localhost:8080/",
     "height": 204.0
    },
    "colab_type": "code",
    "id": "kjwo9MsWNH5d",
    "outputId": "0ddf4bb9-28a5-4ba0-a2dc-79403df4a551"
   },
   "outputs": [],
   "source": [
    "data = pd.read_csv(csv_file_uri, names=['sepal_length', 'sepal_width', 'petal_length', 'petal_width', 'label'])\n",
    "data.head()"
   ]
  },
  {
   "cell_type": "code",
   "execution_count": null,
   "metadata": {
    "colab": {
     "base_uri": "https://localhost:8080/",
     "height": 34.0
    },
    "colab_type": "code",
    "id": "Esx5nKAmNhDE",
    "outputId": "14788407-c79b-4ba3-9c20-adea1f79dccb"
   },
   "outputs": [],
   "source": [
    "data.shape"
   ]
  },
  {
   "cell_type": "code",
   "execution_count": null,
   "metadata": {
    "colab": {
     "base_uri": "https://localhost:8080/",
     "height": 297.0
    },
    "colab_type": "code",
    "id": "O6JIRAjwNjVW",
    "outputId": "dc610966-b91a-4e73-8fc8-dc86e3662bb6"
   },
   "outputs": [],
   "source": [
    "data.describe()"
   ]
  },
  {
   "cell_type": "code",
   "execution_count": null,
   "metadata": {
    "colab": {
     "base_uri": "https://localhost:8080/",
     "height": 34.0
    },
    "colab_type": "code",
    "id": "zWYPQc9jNqJd",
    "outputId": "ab7773e2-a260-4259-b028-867674d37c05"
   },
   "outputs": [],
   "source": [
    "data.sepal_length.mean()"
   ]
  },
  {
   "cell_type": "code",
   "execution_count": null,
   "metadata": {
    "colab": {
     "base_uri": "https://localhost:8080/",
     "height": 34.0
    },
    "colab_type": "code",
    "id": "mEvs0pXYNuwh",
    "outputId": "ae4e5961-fc07-4890-f50b-9e21a61aa666"
   },
   "outputs": [],
   "source": [
    "data.label.unique()"
   ]
  },
  {
   "cell_type": "code",
   "execution_count": null,
   "metadata": {
    "colab": {
     "base_uri": "https://localhost:8080/",
     "height": 85.0
    },
    "colab_type": "code",
    "id": "UxmHn6p8N3GU",
    "outputId": "adcbe2ee-4194-425d-dd65-391ffc1d5f59"
   },
   "outputs": [],
   "source": [
    "data.label.value_counts()"
   ]
  },
  {
   "cell_type": "code",
   "execution_count": null,
   "metadata": {
    "colab": {
     "base_uri": "https://localhost:8080/",
     "height": 364.0
    },
    "colab_type": "code",
    "id": "tSLmMOO-ODhG",
    "outputId": "dd075602-e162-4fcf-8936-51ed8262b3c3"
   },
   "outputs": [],
   "source": [
    "data.sepal_length.plot()"
   ]
  },
  {
   "cell_type": "code",
   "execution_count": null,
   "metadata": {
    "colab": {
     "base_uri": "https://localhost:8080/",
     "height": 366.0
    },
    "colab_type": "code",
    "id": "C9fwcCHoQicd",
    "outputId": "591541e1-953c-4271-ffb3-fb5ce478f4bb"
   },
   "outputs": [],
   "source": [
    "plt.plot(data.sepal_length.values, data.sepal_width.values, 'o', color='black')"
   ]
  },
  {
   "cell_type": "code",
   "execution_count": null,
   "metadata": {
    "colab": {
     "base_uri": "https://localhost:8080/",
     "height": 367.0
    },
    "colab_type": "code",
    "id": "iCCXdSIaRDnm",
    "outputId": "24ea7fe3-a94c-44f0-a609-bda2f89fcf9d"
   },
   "outputs": [],
   "source": [
    "plt.plot(data[data.label==\"Iris-setosa\"].sepal_length.values, data[data.label==\"Iris-setosa\"].sepal_width.values, 'o', color='black')"
   ]
  },
  {
   "cell_type": "code",
   "execution_count": null,
   "metadata": {},
   "outputs": [],
   "source": [
    "# Create a function that changes the text to a simple binary value\n",
    "def convert_class_name(text):\n",
    "    return text.replace(\"Iris-\",\"\")\n",
    "\n",
    "data[\"label\"] = data.label.apply(convert_class_name)"
   ]
  },
  {
   "cell_type": "code",
   "execution_count": null,
   "metadata": {},
   "outputs": [],
   "source": [
    "print(data.label.value_counts())"
   ]
  },
  {
   "cell_type": "code",
   "execution_count": null,
   "metadata": {},
   "outputs": [],
   "source": [
    "data.label.value_counts().index"
   ]
  },
  {
   "cell_type": "code",
   "execution_count": null,
   "metadata": {},
   "outputs": [],
   "source": [
    "colors = ['red', 'blue', 'green']\n",
    "\n",
    "plt.figure(figsize=(12,9))\n",
    "for i,label in enumerate(data.label.value_counts().index):\n",
    "    plt.plot(\n",
    "        data[data.label==label].sepal_length.values, \n",
    "        data[data.label==label].sepal_width.values, \n",
    "        'o', \n",
    "        color=colors[i],\n",
    "        label=label\n",
    "    )\n",
    "plt.legend(loc='upper left')"
   ]
  },
  {
   "cell_type": "code",
   "execution_count": null,
   "metadata": {},
   "outputs": [],
   "source": []
  }
 ],
 "metadata": {
  "colab": {
   "name": "Python-pandas-visualization.ipynb",
   "provenance": [],
   "version": "0.3.2"
  },
  "kernelspec": {
   "display_name": "Python 3",
   "language": "python",
   "name": "python3"
  },
  "language_info": {
   "codemirror_mode": {
    "name": "ipython",
    "version": 3
   },
   "file_extension": ".py",
   "mimetype": "text/x-python",
   "name": "python",
   "nbconvert_exporter": "python",
   "pygments_lexer": "ipython3",
   "version": "3.6.5"
  }
 },
 "nbformat": 4,
 "nbformat_minor": 1
}
